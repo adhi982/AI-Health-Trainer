{
 "cells": [
  {
   "cell_type": "code",
   "execution_count": 2,
   "id": "9a1d5854-026c-4a43-abdc-6f4814412214",
   "metadata": {},
   "outputs": [
    {
     "name": "stdout",
     "output_type": "stream",
     "text": [
      "2.2.3\n"
     ]
    }
   ],
   "source": [
    "import pandas as pd\n",
    "print(pd.__version__)"
   ]
  },
  {
   "cell_type": "code",
   "execution_count": 3,
   "id": "dfe2f14a-53d3-4963-bff4-01ebc12af482",
   "metadata": {},
   "outputs": [],
   "source": [
    "\n",
    "# Sample data for body measurements and types\n",
    "data = {\n",
    "    'shoulder_width': [0.55, 0.50, 0.45, 0.60, 0.48, 0.43],\n",
    "    'hip_width':      [0.40, 0.50, 0.55, 0.42, 0.48, 0.60],\n",
    "    'leg_length':     [1.05, 1.10, 1.15, 1.00, 1.08, 1.12],\n",
    "    'arm_length':     [0.90, 0.95, 0.85, 0.88, 0.92, 0.80],\n",
    "    'body_type':      ['Inverted Triangle', 'Rectangle', 'Pear', 'Inverted Triangle', 'Rectangle', 'Pear']\n",
    "}"
   ]
  },
  {
   "cell_type": "code",
   "execution_count": 4,
   "id": "3b394ecb-3430-4e94-b298-8c43c808e0f4",
   "metadata": {},
   "outputs": [],
   "source": [
    "# Create DataFrame\n",
    "df = pd.DataFrame(data)"
   ]
  },
  {
   "cell_type": "code",
   "execution_count": 5,
   "id": "9181407b-8b68-4a3f-aac0-e1a1a766ed8e",
   "metadata": {},
   "outputs": [],
   "source": [
    "# Save as CSV\n",
    "df.to_csv(\"body_data.csv\", index=False)"
   ]
  },
  {
   "cell_type": "code",
   "execution_count": 6,
   "id": "c960a348-008d-4c3c-994b-4e0249c575ea",
   "metadata": {},
   "outputs": [
    {
     "name": "stdout",
     "output_type": "stream",
     "text": [
      "CSV file created successfully!\n"
     ]
    }
   ],
   "source": [
    "print(\"CSV file created successfully!\")"
   ]
  },
  {
   "cell_type": "code",
   "execution_count": null,
   "id": "649a50e0-a872-481f-92ae-c657aaaf5258",
   "metadata": {},
   "outputs": [],
   "source": []
  }
 ],
 "metadata": {
  "kernelspec": {
   "display_name": "Python 3 (ipykernel)",
   "language": "python",
   "name": "python3"
  },
  "language_info": {
   "codemirror_mode": {
    "name": "ipython",
    "version": 3
   },
   "file_extension": ".py",
   "mimetype": "text/x-python",
   "name": "python",
   "nbconvert_exporter": "python",
   "pygments_lexer": "ipython3",
   "version": "3.12.9"
  }
 },
 "nbformat": 4,
 "nbformat_minor": 5
}
